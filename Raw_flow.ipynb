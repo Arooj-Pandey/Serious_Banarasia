{
 "cells": [
  {
   "cell_type": "code",
   "execution_count": 64,
   "metadata": {},
   "outputs": [
    {
     "data": {
      "text/plain": [
       "True"
      ]
     },
     "execution_count": 64,
     "metadata": {},
     "output_type": "execute_result"
    }
   ],
   "source": [
    "import google.generativeai as genai\n",
    "from dotenv import load_dotenv\n",
    "import os\n",
    "load_dotenv()"
   ]
  },
  {
   "cell_type": "code",
   "execution_count": 2,
   "metadata": {},
   "outputs": [],
   "source": [
    "class GeminiModel:\n",
    "    def __init__(self, gemini_api , model_name):\n",
    "        # Configure the API with the provided key\n",
    "        genai.configure(api_key= os.getenv(\"GEMINI_API_KEY\"))\n",
    "        \n",
    "        # Default configuration settings; can be customized further if needed\n",
    "        generation_config = {\n",
    "            \"temperature\": 0,\n",
    "            \"top_p\": 1,\n",
    "            \"top_k\": 1,\n",
    "            \"max_output_tokens\": 30720,\n",
    "        }\n",
    "        \n",
    "        safety_settings = [\n",
    "            {\"category\": \"HARM_CATEGORY_HARASSMENT\", \"threshold\": \"BLOCK_ONLY_HIGH\"},\n",
    "            {\"category\": \"HARM_CATEGORY_HATE_SPEECH\", \"threshold\": \"BLOCK_ONLY_HIGH\"},\n",
    "            {\"category\": \"HARM_CATEGORY_SEXUALLY_EXPLICIT\", \"threshold\": \"BLOCK_ONLY_HIGH\"},\n",
    "            {\"category\": \"HARM_CATEGORY_DANGEROUS_CONTENT\", \"threshold\": \"BLOCK_ONLY_HIGH\"},\n",
    "        ]\n",
    "        \n",
    "        # Set up the model with the provided model name\n",
    "        self.model = genai.GenerativeModel(model_name=\"gemini-1.5-flash\",\n",
    "                                           generation_config=generation_config,\n",
    "                                           safety_settings=safety_settings)\n",
    "\n",
    "    def generate_content(self, prompt):\n",
    "        # Generate content based on the provided prompts\n",
    "        response = self.model.generate_content([prompt])\n",
    "        return response.text"
   ]
  },
  {
   "cell_type": "markdown",
   "metadata": {},
   "source": [
    "convert { User_Query ===> Re-structured query }"
   ]
  },
  {
   "cell_type": "code",
   "execution_count": 5,
   "metadata": {},
   "outputs": [
    {
     "name": "stdout",
     "output_type": "stream",
     "text": [
      "Show me pictures of some famous ghats in Varanasi.\n",
      "\n"
     ]
    }
   ],
   "source": [
    "from pathlib import Path\n",
    "\n",
    "GM = GeminiModel(os.getenv(\"GEMINI_API_KEY\"), \"gemini-1.5-flash\")\n",
    "\n",
    "translator_prompt_template = Path(r\"D:\\projects\\Serious_Banarasia\\prompts\\translator\\translator_prompt.txt\")\n",
    "if not translator_prompt_template.is_file():\n",
    "    raise FileNotFoundError(f\"Prompt file not found at {translator_prompt_template}\")\n",
    "\n",
    "with open(translator_prompt_template, \"r\", encoding=\"utf-8\") as f:\n",
    "    translator_prompt_template = f.read()\n",
    "    formatted_translator_prompt_template = translator_prompt_template.format(\n",
    "        user_query='Show me pictures of some famous ghats in varanasi'\n",
    "    )\n",
    "\n",
    "english_refined_result = GM.generate_content(formatted_translator_prompt_template)\n",
    "print(english_refined_result)"
   ]
  },
  {
   "cell_type": "markdown",
   "metadata": {},
   "source": [
    "Query Keyword Seggregation"
   ]
  },
  {
   "cell_type": "code",
   "execution_count": 10,
   "metadata": {},
   "outputs": [
    {
     "name": "stdout",
     "output_type": "stream",
     "text": [
      "You are given a query: Show me pictures of some famous ghats in Varanasi.\n",
      " and are tasked to classify the query into a maximum of 2 classes: \"text_api, image_api\" if the query demands or requires classification into these API classes.\n",
      "\n",
      "When converting the query to keywords, ensure that:\n",
      "\n",
      "Keywords preserve the complete semantic meaning of the original query.\n",
      "No keyword segmentation should lead to a loss of context or produce irrelevant results when performing a search.\n",
      "Group words that form meaningful phrases together, avoiding unnecessary splitting.\n",
      "Return the output in the following structure:\n",
      "\n",
      "json\n",
      "{\n",
      "    \"api_needed\": 0,\n",
      "    \"api_name\": [\"keyword_1\", \"keyword_2\", ... \"keyword_n\"],\n",
      "    \"api_name\": [\"keyword_1\", \"keyword_2\", ... \"keyword_n\"]\n",
      "}\n",
      "\n",
      "Example:\n",
      "\n",
      "Query: images of famous Varanasi ghats\n",
      "\n",
      "Correct Response:\n",
      "json\n",
      "{\n",
      "    \"api_needed\": 1,\n",
      "    \"image_api\": [\"famous Varanasi ghats\"]\n",
      "}\n",
      "\n",
      "\n",
      "Incorrect Response:\n",
      "json\n",
      "{\n",
      "    \"api_needed\": 1,\n",
      "    \"image_api\": [\"images\", \"Varanasi ghats\", \"famous Varanasi ghats\"]\n",
      "}\n",
      "\n",
      "\n",
      "Query: Tell me about history of Varanasi.\n",
      "\n",
      "\n",
      "Correct Response:\n",
      "json\n",
      "{\n",
      "    \"api_needed\": 1,\n",
      "    \"text_api\": [\"history of Varanasi\"]\n",
      "}\n",
      "\n",
      "Incorrect Response:\n",
      "json\n",
      "{\n",
      "    \"api_needed\": 1,\n",
      "    \"search_api\": [\"Varanasi\", \"history\"]\n",
      "}\n",
      "\n",
      "\n",
      "Query: Hii How are you ? \n",
      "\n",
      "json\n",
      "{\n",
      "    \"api_needed\" : 0,\n",
      "    \"message\" :[\"your answere here\"]\n",
      "}\n",
      "\n",
      "\n",
      "```json\n",
      "{\n",
      "  \"api_needed\": 1,\n",
      "  \"image_api\": [\"famous ghats in Varanasi\"]\n",
      "}\n",
      "```\n",
      "\n",
      "Parsed JSON: {'api_needed': 1, 'image_api': ['famous ghats in Varanasi']}\n"
     ]
    }
   ],
   "source": [
    "# Load and format the query keywords segregator template\n",
    "\n",
    "import json\n",
    "\n",
    "query_keywords_seggregator_template = Path(r\"D:\\projects\\Serious_Banarasia\\prompts\\query_router\\query_keywords_seggregator.txt\")\n",
    "if not query_keywords_seggregator_template.is_file():\n",
    "    raise FileNotFoundError(f\"Prompt file not found at {query_keywords_seggregator_template}\")\n",
    "\n",
    "with open(query_keywords_seggregator_template, \"r\", encoding=\"utf-8\") as f:\n",
    "    query_keywords_seggregator_template = f.read()\n",
    "    formatted_query_keywords_seggregator_template = query_keywords_seggregator_template.format(\n",
    "        re_structured_query=english_refined_result\n",
    "    )\n",
    "    \n",
    "    \n",
    "print(formatted_query_keywords_seggregator_template)\n",
    "\n",
    "\n",
    "keywords_result = {}\n",
    "keywords_result = GM.generate_content(formatted_query_keywords_seggregator_template)\n",
    "print(keywords_result)\n",
    "\n",
    "\n",
    "\n",
    "try:\n",
    "    start_index = keywords_result.find(\"{\")\n",
    "    end_index = keywords_result.rfind(\"}\") + 1\n",
    "    json_content = keywords_result[start_index:end_index]\n",
    "    keywords_result_dict = json.loads(json_content)\n",
    "    print(\"Parsed JSON:\", keywords_result_dict)\n",
    "except json.JSONDecodeError as e:\n",
    "    print(\"JSONDecodeError:\", e)\n",
    "    print(\"Invalid JSON content:\", keywords_result)\n",
    "except Exception as e:\n",
    "    print(\"Error:\", e)\n",
    "    print(\"Generated Content:\", keywords_result)\n",
    "\n"
   ]
  },
  {
   "cell_type": "code",
   "execution_count": 11,
   "metadata": {},
   "outputs": [],
   "source": [
    "#Serper tool for text_generation\n",
    "import http.client\n",
    "\n",
    "\n",
    "def serperquery(query):\n",
    "    conn = http.client.HTTPSConnection(\"google.serper.dev\")\n",
    "    payload = json.dumps({\n",
    "    \"q\": query\n",
    "    })\n",
    "    headers = {\n",
    "    'X-API-KEY': os.getenv(\"SERPER_API_KEY\"),\n",
    "    'Content-Type': 'application/json'\n",
    "    }\n",
    "    conn.request(\"POST\", \"/search\", payload, headers)\n",
    "    res = conn.getresponse()\n",
    "    data = res.read()\n",
    "    return(data.decode(\"utf-8\"))\n",
    "\n",
    "\n",
    "#Serper tool for image generation\n",
    "\n",
    "# def serper_img_query(keywords):\n",
    "#   conn = http.client.HTTPSConnection(\"google.serper.dev\")\n",
    "#   payload = json.dumps({\n",
    "#     \"q\": keywords,\n",
    "#     \"gl\": \"in\"\n",
    "#   })\n",
    "#   headers = {\n",
    "#     'X-API-KEY': os.getenv(\"SERPER_API_KEY\"),\n",
    "#     'Content-Type': 'application/json'\n",
    "#   }\n",
    "#   conn.request(\"POST\", \"/images\", payload, headers)\n",
    "#   res = conn.getresponse()\n",
    "#   data = res.read()\n",
    "#   return(data.decode(\"utf-8\"))\n"
   ]
  },
  {
   "cell_type": "code",
   "execution_count": 12,
   "metadata": {},
   "outputs": [],
   "source": [
    "def serper_img_query(keywords):\n",
    "    conn = http.client.HTTPSConnection(\"google.serper.dev\")\n",
    "    payload = json.dumps({\n",
    "        \"q\": keywords,\n",
    "        \"gl\": \"in\",\n",
    "        \"type\": \"images\",  # Add this to specify image search\n",
    "        \"engine\": \"google\",\n",
    "        \"num\": 10         # Number of results to return\n",
    "    })\n",
    "    headers = {\n",
    "        'X-API-KEY': os.getenv(\"SERPER_API_KEY\"),\n",
    "        'Content-Type': 'application/json'\n",
    "    }\n",
    "    conn.request(\"POST\", \"/images\", payload, headers)\n",
    "    res = conn.getresponse()\n",
    "    data = res.read()\n",
    "    return data.decode(\"utf-8\")"
   ]
  },
  {
   "cell_type": "markdown",
   "metadata": {},
   "source": [
    "Hit respective serper api's and store the results "
   ]
  },
  {
   "cell_type": "code",
   "execution_count": 13,
   "metadata": {},
   "outputs": [
    {
     "name": "stdout",
     "output_type": "stream",
     "text": [
      "<class 'dict'>\n"
     ]
    }
   ],
   "source": [
    "print(type(keywords_result_dict))"
   ]
  },
  {
   "cell_type": "code",
   "execution_count": 14,
   "metadata": {},
   "outputs": [],
   "source": [
    "def route_keywords(keywords): \n",
    "    # Initialize results dictionary with only needed categories\n",
    "    results = {\"text_api\": [], \"image_api\": []}\n",
    "    \n",
    "    # Skip api_needed as it's a control parameter, not a category for processing\n",
    "    categories_to_process = {k: v for k, v in keywords.items() if k != 'api_needed'}\n",
    "    \n",
    "    # Iterate through the filtered input dictionary\n",
    "    for category, keyword_list in categories_to_process.items():\n",
    "        if category not in results:\n",
    "            print(f\"Warning: Unknown category {category} encountered\")\n",
    "            continue\n",
    "            \n",
    "        # Process each keyword in the category's keyword list\n",
    "        for keyword in keyword_list:\n",
    "            try:\n",
    "                if category == \"text_api\":\n",
    "                    result = serperquery(keyword)\n",
    "                    # Parse the JSON string returned by serperquery\n",
    "                    if isinstance(result, str):\n",
    "                        result = json.loads(result)\n",
    "                elif category == \"image_api\":\n",
    "                    print(keyword)\n",
    "                    result = serper_img_query(keyword)\n",
    "                    # Parse the JSON string returned by serper_img_query\n",
    "                    if isinstance(result, str):\n",
    "                        result = json.loads(result)\n",
    "                \n",
    "                # Add the result to the appropriate category\n",
    "                results[category].append({keyword: result})\n",
    "            except json.JSONDecodeError as je:\n",
    "                print(f\"JSON decode error for {keyword}: {str(je)}\")\n",
    "                continue\n",
    "            except Exception as e:\n",
    "                print(f\"Error processing {keyword} for {category}: {str(e)}\")\n",
    "                continue\n",
    "    \n",
    "    # Save results to JSON file with proper error handling\n",
    "    try:\n",
    "        with open(\"keywords_result_dict.json\", \"w\", encoding='utf-8') as f:\n",
    "            json.dump(results, f, indent=4, ensure_ascii=False)\n",
    "        print(\"Results successfully saved to keywords_result_dict.json\")\n",
    "    except Exception as e:\n",
    "        print(f\"Error saving results to JSON: {str(e)}\")\n",
    "    \n",
    "    return results\n",
    "    "
   ]
  },
  {
   "cell_type": "code",
   "execution_count": 15,
   "metadata": {},
   "outputs": [
    {
     "name": "stdout",
     "output_type": "stream",
     "text": [
      "famous ghats in Varanasi\n",
      "Results successfully saved to keywords_result_dict.json\n",
      "{'text_api': [], 'image_api': [{'famous ghats in Varanasi': {'searchParameters': {'q': 'famous ghats in Varanasi', 'gl': 'in', 'type': 'images', 'num': 10, 'engine': 'google'}, 'images': [{'title': '9 Important Ghats in Varanasi that You Must See', 'imageUrl': 'https://www.tripsavvy.com/thmb/tJ6ruJDKISZf3tZn6jx__HeMUMY=/1500x0/filters:no_upscale():max_bytes(150000):strip_icc()/GettyImages-128253674-592156025f9b58f4c0d79bfd.jpg', 'imageWidth': 1500, 'imageHeight': 997, 'thumbnailUrl': 'https://encrypted-tbn0.gstatic.com/images?q=tbn:ANd9GcRlJlXNM9slC9luK10U6g6YkVkdEMtaZa3cZBkAgxpHel_q_fJk&s', 'thumbnailWidth': 275, 'thumbnailHeight': 183, 'source': 'TripSavvy', 'domain': 'www.tripsavvy.com', 'link': 'https://www.tripsavvy.com/must-see-ghats-in-varanasi-1539761', 'googleUrl': 'https://www.google.com/imgres?imgurl=https%3A%2F%2Fwww.tripsavvy.com%2Fthmb%2FtJ6ruJDKISZf3tZn6jx__HeMUMY%3D%2F1500x0%2Ffilters%3Ano_upscale()%3Amax_bytes(150000)%3Astrip_icc()%2FGettyImages-128253674-592156025f9b58f4c0d79bfd.jpg&tbnid=MEekfvVCzJis4M&imgrefurl=https%3A%2F%2Fwww.tripsavvy.com%2Fmust-see-ghats-in-varanasi-1539761&docid=OKTOzvQiNbY2_M&w=1500&h=997&ved=0ahUKEwib_pXSyouLAxUsFFkFHc4PAJEQvFcIAigA', 'position': 1}, {'title': 'Ghats in Varanasi - Wikipedia', 'imageUrl': 'https://upload.wikimedia.org/wikipedia/commons/thumb/0/04/Ahilya_Ghat_by_the_Ganges%2C_Varanasi.jpg/184px-Ahilya_Ghat_by_the_Ganges%2C_Varanasi.jpg', 'imageWidth': 184, 'imageHeight': 138, 'thumbnailUrl': 'https://encrypted-tbn0.gstatic.com/images?q=tbn:ANd9GcTYBhy_bov9NOXoPAU3i5rSTf2ag1Zw4HDjmgi5TwDZk_JXO6Y&s', 'thumbnailWidth': 184, 'thumbnailHeight': 138, 'source': 'Wikipedia', 'domain': 'en.wikipedia.org', 'link': 'https://en.wikipedia.org/wiki/Ghats_in_Varanasi', 'googleUrl': 'https://www.google.com/imgres?imgurl=https%3A%2F%2Fupload.wikimedia.org%2Fwikipedia%2Fcommons%2Fthumb%2F0%2F04%2FAhilya_Ghat_by_the_Ganges%252C_Varanasi.jpg%2F184px-Ahilya_Ghat_by_the_Ganges%252C_Varanasi.jpg&tbnid=9637bh5JX4JMCM&imgrefurl=https%3A%2F%2Fen.wikipedia.org%2Fwiki%2FGhats_in_Varanasi&docid=GzkBIIOt7l926M&w=184&h=138&ved=0ahUKEwib_pXSyouLAxUsFFkFHc4PAJEQvFcIAygB', 'position': 2}, {'title': 'The 85 Ghats of Banaras – Kevin Standage', 'imageUrl': 'https://kevinstandagephotography.wordpress.com/wp-content/uploads/2020/05/ksp_5403.jpg?w=1024', 'imageWidth': 1024, 'imageHeight': 682, 'thumbnailUrl': 'https://encrypted-tbn0.gstatic.com/images?q=tbn:ANd9GcRgVJlWGMr3Rdq-wxsKxazDkKf0Qvf1W2KTPwTM-ua-2gg7BDe7&s', 'thumbnailWidth': 275, 'thumbnailHeight': 183, 'source': 'Kevin Standage - WordPress.com', 'domain': 'kevinstandagephotography.wordpress.com', 'link': 'https://kevinstandagephotography.wordpress.com/2020/05/22/the-ghats-of-banaras-varanasi-kashi/', 'googleUrl': 'https://www.google.com/imgres?imgurl=https%3A%2F%2Fkevinstandagephotography.wordpress.com%2Fwp-content%2Fuploads%2F2020%2F05%2Fksp_5403.jpg%3Fw%3D1024&tbnid=jJwiZdZBFTJsiM&imgrefurl=https%3A%2F%2Fkevinstandagephotography.wordpress.com%2F2020%2F05%2F22%2Fthe-ghats-of-banaras-varanasi-kashi%2F&docid=3ZAy2ZuQVHshoM&w=1024&h=682&ved=0ahUKEwib_pXSyouLAxUsFFkFHc4PAJEQvFcIBCgC', 'position': 3}, {'title': 'Exploring the beautiful ghats of Varanasi | TimesTravel', 'imageUrl': 'https://static.toiimg.com/photo/107570888.cms', 'imageWidth': 1200, 'imageHeight': 900, 'thumbnailUrl': 'https://encrypted-tbn0.gstatic.com/images?q=tbn:ANd9GcS33V-81NSL1FzPvSOkGWAc6ojb47G-LUOFjucs0yjCzIHe9lc&s', 'thumbnailWidth': 259, 'thumbnailHeight': 194, 'source': 'Times of India', 'domain': 'timesofindia.indiatimes.com', 'link': 'https://timesofindia.indiatimes.com/travel/destinations/exploring-the-beautiful-ghats-of-varanasi/articleshow/107570888.cms', 'googleUrl': 'https://www.google.com/imgres?imgurl=https%3A%2F%2Fstatic.toiimg.com%2Fphoto%2F107570888.cms&tbnid=p9Xse0McZVFs4M&imgrefurl=https%3A%2F%2Ftimesofindia.indiatimes.com%2Ftravel%2Fdestinations%2Fexploring-the-beautiful-ghats-of-varanasi%2Farticleshow%2F107570888.cms&docid=KSAQT1BqjMLkxM&w=1200&h=900&ved=0ahUKEwib_pXSyouLAxUsFFkFHc4PAJEQvFcIBSgD', 'position': 4}, {'title': 'Top 5 Must-Visit Ghats in Varanasi | India.com', 'imageUrl': 'https://static.india.com/wp-content/uploads/2019/03/Manikarnika-Ghat-in-Varanasi.jpg?impolicy=Medium_Resize&w=1200&h=800', 'imageWidth': 1200, 'imageHeight': 800, 'thumbnailUrl': 'https://encrypted-tbn0.gstatic.com/images?q=tbn:ANd9GcTUCe1-qeRfzBRYX8a7LoOJDf9pbfBRzNOSOjjXkGdT8mINfNc&s', 'thumbnailWidth': 275, 'thumbnailHeight': 183, 'source': 'India.Com', 'domain': 'www.india.com', 'link': 'https://www.india.com/travel/articles/top-5-must-visit-ghats-in-varanasi-3608454/', 'googleUrl': 'https://www.google.com/imgres?imgurl=https%3A%2F%2Fstatic.india.com%2Fwp-content%2Fuploads%2F2019%2F03%2FManikarnika-Ghat-in-Varanasi.jpg%3Fimpolicy%3DMedium_Resize%26w%3D1200%26h%3D800&tbnid=Rgsbl5ADn3JT7M&imgrefurl=https%3A%2F%2Fwww.india.com%2Ftravel%2Farticles%2Ftop-5-must-visit-ghats-in-varanasi-3608454%2F&docid=Gz2XiHXw8aIJ5M&w=1200&h=800&ved=0ahUKEwib_pXSyouLAxUsFFkFHc4PAJEQvFcIBigE', 'position': 5}, {'title': \"Between Heaven and Earth - Exploring Varanasi's Iconic Ghats\", 'imageUrl': 'https://www.savaari.com/blog/wp-content/uploads/2023/09/Varanasi_ghats1.webp', 'imageWidth': 2048, 'imageHeight': 1366, 'thumbnailUrl': 'https://encrypted-tbn0.gstatic.com/images?q=tbn:ANd9GcQyYTKiWnKhSP3eSJ22CDZCJ8oKK2bdWzLOKmkUWwlz8gKc_OsQ&s', 'thumbnailWidth': 275, 'thumbnailHeight': 183, 'source': 'Savaari', 'domain': 'www.savaari.com', 'link': 'https://www.savaari.com/blog/ghats-of-varanasi/', 'googleUrl': 'https://www.google.com/imgres?imgurl=https%3A%2F%2Fwww.savaari.com%2Fblog%2Fwp-content%2Fuploads%2F2023%2F09%2FVaranasi_ghats1.webp&tbnid=iaPhz7fIacq3bM&imgrefurl=https%3A%2F%2Fwww.savaari.com%2Fblog%2Fghats-of-varanasi%2F&docid=Hp0WBB0_RERQ4M&w=2048&h=1366&ved=0ahUKEwib_pXSyouLAxUsFFkFHc4PAJEQvFcIBygF', 'position': 6}, {'title': 'ASSI GHAT (2025) All You Need to Know BEFORE You Go (with Photos ...', 'imageUrl': 'https://dynamic-media-cdn.tripadvisor.com/media/photo-o/0f/ae/ed/5d/a-view-of-the-ghats-taken.jpg?w=1200&h=1200&s=1', 'imageWidth': 1200, 'imageHeight': 1125, 'thumbnailUrl': 'https://encrypted-tbn0.gstatic.com/images?q=tbn:ANd9GcTOGEv8OzFezO-4AsRFX74HkuiQ7wVPkVVOTE-8xcOcsCnvIzjK&s', 'thumbnailWidth': 232, 'thumbnailHeight': 217, 'source': 'Tripadvisor', 'domain': 'www.tripadvisor.in', 'link': 'https://www.tripadvisor.in/Attraction_Review-g297685-d321162-Reviews-Assi_Ghat-Varanasi_Varanasi_District_Uttar_Pradesh.html', 'googleUrl': 'https://www.google.com/imgres?imgurl=https%3A%2F%2Fdynamic-media-cdn.tripadvisor.com%2Fmedia%2Fphoto-o%2F0f%2Fae%2Fed%2F5d%2Fa-view-of-the-ghats-taken.jpg%3Fw%3D1200%26h%3D1200%26s%3D1&tbnid=61PViQoBuvGPKM&imgrefurl=https%3A%2F%2Fwww.tripadvisor.in%2FAttraction_Review-g297685-d321162-Reviews-Assi_Ghat-Varanasi_Varanasi_District_Uttar_Pradesh.html&docid=Jianh1OcDfrexM&w=1200&h=1125&ved=0ahUKEwib_pXSyouLAxUsFFkFHc4PAJEQvFcICCgG', 'position': 7}, {'title': \"Varanasi: Top 12 Ghats to Visit in India's Spiritual Capital - The ...\", 'imageUrl': 'https://thefloatingpebbles.com/wp-content/uploads/2023/03/VARANASI22_417-1024x576.jpg', 'imageWidth': 1024, 'imageHeight': 576, 'thumbnailUrl': 'https://encrypted-tbn0.gstatic.com/images?q=tbn:ANd9GcTrMV-8B-wk9ThkXt9-DowT2ocPA1DaaLRCyv6lcpHGScLtfxx-&s', 'thumbnailWidth': 300, 'thumbnailHeight': 168, 'source': 'The Floating Pebbles', 'domain': 'thefloatingpebbles.com', 'link': 'https://thefloatingpebbles.com/varanasi-top-12-ghats-to-visit-in-indias-spiritual-capital/', 'googleUrl': 'https://www.google.com/imgres?imgurl=https%3A%2F%2Fthefloatingpebbles.com%2Fwp-content%2Fuploads%2F2023%2F03%2FVARANASI22_417-1024x576.jpg&tbnid=dlcuHvs3NCCWXM&imgrefurl=https%3A%2F%2Fthefloatingpebbles.com%2Fvaranasi-top-12-ghats-to-visit-in-indias-spiritual-capital%2F&docid=dTVOYoNmplsfaM&w=1024&h=576&ved=0ahUKEwib_pXSyouLAxUsFFkFHc4PAJEQvFcICSgH', 'copyright': 'SUDIP RAY', 'position': 8}, {'title': 'Explore The Famous Ghats in Varanasi - SOTC', 'imageUrl': 'https://www.sotc.in/blog/wp-content/uploads/2024/04/Varanasi-Ghat-2.jpg', 'imageWidth': 768, 'imageHeight': 512, 'thumbnailUrl': 'https://encrypted-tbn0.gstatic.com/images?q=tbn:ANd9GcTdUQBjDOG3LbdiWFAIaMwVlTFV9EcuJ9A4ZoUWdavVF8J83u8&s', 'thumbnailWidth': 275, 'thumbnailHeight': 183, 'source': 'SOTC', 'domain': 'www.sotc.in', 'link': 'https://www.sotc.in/blog/indian-holidays/famous-ghats-of-varanasi', 'googleUrl': 'https://www.google.com/imgres?imgurl=https%3A%2F%2Fwww.sotc.in%2Fblog%2Fwp-content%2Fuploads%2F2024%2F04%2FVaranasi-Ghat-2.jpg&tbnid=g7lunN9K2wroZM&imgrefurl=https%3A%2F%2Fwww.sotc.in%2Fblog%2Findian-holidays%2Ffamous-ghats-of-varanasi&docid=BeHJBjZ0xIM_EM&w=768&h=512&ved=0ahUKEwib_pXSyouLAxUsFFkFHc4PAJEQvFcICigI', 'position': 9}, {'title': 'Best Varanasi Ghats (Banaras Ghats) Tours & Tickets - Book Now', 'imageUrl': 'https://media.tacdn.com/media/attractions-splice-spp-674x446/0b/39/9e/06.jpg', 'imageWidth': 674, 'imageHeight': 429, 'thumbnailUrl': 'https://encrypted-tbn0.gstatic.com/images?q=tbn:ANd9GcQ37Jkuu1Z5SpDGuMoEs0C37lRh4JXNJrdnDX2lGvcCKgHvGc4&s', 'thumbnailWidth': 282, 'thumbnailHeight': 179, 'source': 'Viator', 'domain': 'www.viator.com', 'link': 'https://www.viator.com/en-IN/Varanasi-attractions/Varanasi-Ghats/d22015-a21522', 'googleUrl': 'https://www.google.com/imgres?imgurl=https%3A%2F%2Fmedia.tacdn.com%2Fmedia%2Fattractions-splice-spp-674x446%2F0b%2F39%2F9e%2F06.jpg&tbnid=sXF2luDIThdoOM&imgrefurl=https%3A%2F%2Fwww.viator.com%2Fen-IN%2FVaranasi-attractions%2FVaranasi-Ghats%2Fd22015-a21522&docid=fUCM9TODgjZBAM&w=674&h=429&ved=0ahUKEwib_pXSyouLAxUsFFkFHc4PAJEQvFcICygJ', 'position': 10}], 'credits': 1}}]}\n"
     ]
    }
   ],
   "source": [
    "results = route_keywords(keywords_result_dict)\n",
    "print(results)"
   ]
  },
  {
   "cell_type": "code",
   "execution_count": 16,
   "metadata": {},
   "outputs": [],
   "source": [
    "def parse_api_results(json_data):\n",
    "    \"\"\"\n",
    "    Parse JSON data from different APIs and extract organic results\n",
    "    Args:\n",
    "        json_data (dict): Raw JSON response from APIs\n",
    "    Returns:\n",
    "        dict: Cleaned organic results grouped by API type\n",
    "    \"\"\"\n",
    "    parsed_results = {}\n",
    "    \n",
    "    try:\n",
    "        # Iterate through each API type (text_api, image_api etc)\n",
    "        for api_type, responses in json_data.items():\n",
    "            parsed_results[api_type] = []\n",
    "            \n",
    "            # Handle each response for the API type\n",
    "            for response in responses:\n",
    "                try:\n",
    "                    # Extract first key-value pair (query and its results)\n",
    "                    query = next(iter(response))\n",
    "                    results = response[query]\n",
    "                    \n",
    "                    # Extract organic results if they exist\n",
    "                    if 'organic' in results:\n",
    "                        cleaned_results = []\n",
    "                        for result in results['organic']:\n",
    "                            cleaned_result = {\n",
    "                                'title': result.get('title', ''),\n",
    "                                'link': result.get('link', ''),\n",
    "                                'snippet': result.get('snippet', '')\n",
    "                            }\n",
    "                            cleaned_results.append(cleaned_result)\n",
    "                        \n",
    "                        parsed_results[api_type].append({\n",
    "                            'results': cleaned_results\n",
    "                        })\n",
    "                    elif 'images' in results:\n",
    "                        cleaned_results = []\n",
    "                        for result in results['images']:\n",
    "                            cleaned_result = {\n",
    "                                'title': result.get('title', ''),\n",
    "                                'link': result.get('link', ''),\n",
    "                                'snippet': result.get('snippet', '')\n",
    "                            }\n",
    "                            cleaned_results.append(cleaned_result)\n",
    "                        \n",
    "                        parsed_results[api_type].append({\n",
    "                            'results': cleaned_results\n",
    "                        })\n",
    "                        \n",
    "                except (AttributeError, KeyError, StopIteration) as e:\n",
    "                    print(f\"Error parsing response in {api_type}: {str(e)}\")\n",
    "                    continue\n",
    "                    \n",
    "    except Exception as e:\n",
    "        print(f\"Error parsing JSON data: {str(e)}\")\n",
    "        return {}\n",
    "        \n",
    "    return parsed_results\n"
   ]
  },
  {
   "cell_type": "code",
   "execution_count": 17,
   "metadata": {},
   "outputs": [
    {
     "name": "stdout",
     "output_type": "stream",
     "text": [
      "{'text_api': [], 'image_api': [{'famous ghats in Varanasi': {'searchParameters': {'q': 'famous ghats in Varanasi', 'gl': 'in', 'type': 'images', 'num': 10, 'engine': 'google'}, 'images': [{'title': '9 Important Ghats in Varanasi that You Must See', 'imageUrl': 'https://www.tripsavvy.com/thmb/tJ6ruJDKISZf3tZn6jx__HeMUMY=/1500x0/filters:no_upscale():max_bytes(150000):strip_icc()/GettyImages-128253674-592156025f9b58f4c0d79bfd.jpg', 'imageWidth': 1500, 'imageHeight': 997, 'thumbnailUrl': 'https://encrypted-tbn0.gstatic.com/images?q=tbn:ANd9GcRlJlXNM9slC9luK10U6g6YkVkdEMtaZa3cZBkAgxpHel_q_fJk&s', 'thumbnailWidth': 275, 'thumbnailHeight': 183, 'source': 'TripSavvy', 'domain': 'www.tripsavvy.com', 'link': 'https://www.tripsavvy.com/must-see-ghats-in-varanasi-1539761', 'googleUrl': 'https://www.google.com/imgres?imgurl=https%3A%2F%2Fwww.tripsavvy.com%2Fthmb%2FtJ6ruJDKISZf3tZn6jx__HeMUMY%3D%2F1500x0%2Ffilters%3Ano_upscale()%3Amax_bytes(150000)%3Astrip_icc()%2FGettyImages-128253674-592156025f9b58f4c0d79bfd.jpg&tbnid=MEekfvVCzJis4M&imgrefurl=https%3A%2F%2Fwww.tripsavvy.com%2Fmust-see-ghats-in-varanasi-1539761&docid=OKTOzvQiNbY2_M&w=1500&h=997&ved=0ahUKEwib_pXSyouLAxUsFFkFHc4PAJEQvFcIAigA', 'position': 1}, {'title': 'Ghats in Varanasi - Wikipedia', 'imageUrl': 'https://upload.wikimedia.org/wikipedia/commons/thumb/0/04/Ahilya_Ghat_by_the_Ganges%2C_Varanasi.jpg/184px-Ahilya_Ghat_by_the_Ganges%2C_Varanasi.jpg', 'imageWidth': 184, 'imageHeight': 138, 'thumbnailUrl': 'https://encrypted-tbn0.gstatic.com/images?q=tbn:ANd9GcTYBhy_bov9NOXoPAU3i5rSTf2ag1Zw4HDjmgi5TwDZk_JXO6Y&s', 'thumbnailWidth': 184, 'thumbnailHeight': 138, 'source': 'Wikipedia', 'domain': 'en.wikipedia.org', 'link': 'https://en.wikipedia.org/wiki/Ghats_in_Varanasi', 'googleUrl': 'https://www.google.com/imgres?imgurl=https%3A%2F%2Fupload.wikimedia.org%2Fwikipedia%2Fcommons%2Fthumb%2F0%2F04%2FAhilya_Ghat_by_the_Ganges%252C_Varanasi.jpg%2F184px-Ahilya_Ghat_by_the_Ganges%252C_Varanasi.jpg&tbnid=9637bh5JX4JMCM&imgrefurl=https%3A%2F%2Fen.wikipedia.org%2Fwiki%2FGhats_in_Varanasi&docid=GzkBIIOt7l926M&w=184&h=138&ved=0ahUKEwib_pXSyouLAxUsFFkFHc4PAJEQvFcIAygB', 'position': 2}, {'title': 'The 85 Ghats of Banaras – Kevin Standage', 'imageUrl': 'https://kevinstandagephotography.wordpress.com/wp-content/uploads/2020/05/ksp_5403.jpg?w=1024', 'imageWidth': 1024, 'imageHeight': 682, 'thumbnailUrl': 'https://encrypted-tbn0.gstatic.com/images?q=tbn:ANd9GcRgVJlWGMr3Rdq-wxsKxazDkKf0Qvf1W2KTPwTM-ua-2gg7BDe7&s', 'thumbnailWidth': 275, 'thumbnailHeight': 183, 'source': 'Kevin Standage - WordPress.com', 'domain': 'kevinstandagephotography.wordpress.com', 'link': 'https://kevinstandagephotography.wordpress.com/2020/05/22/the-ghats-of-banaras-varanasi-kashi/', 'googleUrl': 'https://www.google.com/imgres?imgurl=https%3A%2F%2Fkevinstandagephotography.wordpress.com%2Fwp-content%2Fuploads%2F2020%2F05%2Fksp_5403.jpg%3Fw%3D1024&tbnid=jJwiZdZBFTJsiM&imgrefurl=https%3A%2F%2Fkevinstandagephotography.wordpress.com%2F2020%2F05%2F22%2Fthe-ghats-of-banaras-varanasi-kashi%2F&docid=3ZAy2ZuQVHshoM&w=1024&h=682&ved=0ahUKEwib_pXSyouLAxUsFFkFHc4PAJEQvFcIBCgC', 'position': 3}, {'title': 'Exploring the beautiful ghats of Varanasi | TimesTravel', 'imageUrl': 'https://static.toiimg.com/photo/107570888.cms', 'imageWidth': 1200, 'imageHeight': 900, 'thumbnailUrl': 'https://encrypted-tbn0.gstatic.com/images?q=tbn:ANd9GcS33V-81NSL1FzPvSOkGWAc6ojb47G-LUOFjucs0yjCzIHe9lc&s', 'thumbnailWidth': 259, 'thumbnailHeight': 194, 'source': 'Times of India', 'domain': 'timesofindia.indiatimes.com', 'link': 'https://timesofindia.indiatimes.com/travel/destinations/exploring-the-beautiful-ghats-of-varanasi/articleshow/107570888.cms', 'googleUrl': 'https://www.google.com/imgres?imgurl=https%3A%2F%2Fstatic.toiimg.com%2Fphoto%2F107570888.cms&tbnid=p9Xse0McZVFs4M&imgrefurl=https%3A%2F%2Ftimesofindia.indiatimes.com%2Ftravel%2Fdestinations%2Fexploring-the-beautiful-ghats-of-varanasi%2Farticleshow%2F107570888.cms&docid=KSAQT1BqjMLkxM&w=1200&h=900&ved=0ahUKEwib_pXSyouLAxUsFFkFHc4PAJEQvFcIBSgD', 'position': 4}, {'title': 'Top 5 Must-Visit Ghats in Varanasi | India.com', 'imageUrl': 'https://static.india.com/wp-content/uploads/2019/03/Manikarnika-Ghat-in-Varanasi.jpg?impolicy=Medium_Resize&w=1200&h=800', 'imageWidth': 1200, 'imageHeight': 800, 'thumbnailUrl': 'https://encrypted-tbn0.gstatic.com/images?q=tbn:ANd9GcTUCe1-qeRfzBRYX8a7LoOJDf9pbfBRzNOSOjjXkGdT8mINfNc&s', 'thumbnailWidth': 275, 'thumbnailHeight': 183, 'source': 'India.Com', 'domain': 'www.india.com', 'link': 'https://www.india.com/travel/articles/top-5-must-visit-ghats-in-varanasi-3608454/', 'googleUrl': 'https://www.google.com/imgres?imgurl=https%3A%2F%2Fstatic.india.com%2Fwp-content%2Fuploads%2F2019%2F03%2FManikarnika-Ghat-in-Varanasi.jpg%3Fimpolicy%3DMedium_Resize%26w%3D1200%26h%3D800&tbnid=Rgsbl5ADn3JT7M&imgrefurl=https%3A%2F%2Fwww.india.com%2Ftravel%2Farticles%2Ftop-5-must-visit-ghats-in-varanasi-3608454%2F&docid=Gz2XiHXw8aIJ5M&w=1200&h=800&ved=0ahUKEwib_pXSyouLAxUsFFkFHc4PAJEQvFcIBigE', 'position': 5}, {'title': \"Between Heaven and Earth - Exploring Varanasi's Iconic Ghats\", 'imageUrl': 'https://www.savaari.com/blog/wp-content/uploads/2023/09/Varanasi_ghats1.webp', 'imageWidth': 2048, 'imageHeight': 1366, 'thumbnailUrl': 'https://encrypted-tbn0.gstatic.com/images?q=tbn:ANd9GcQyYTKiWnKhSP3eSJ22CDZCJ8oKK2bdWzLOKmkUWwlz8gKc_OsQ&s', 'thumbnailWidth': 275, 'thumbnailHeight': 183, 'source': 'Savaari', 'domain': 'www.savaari.com', 'link': 'https://www.savaari.com/blog/ghats-of-varanasi/', 'googleUrl': 'https://www.google.com/imgres?imgurl=https%3A%2F%2Fwww.savaari.com%2Fblog%2Fwp-content%2Fuploads%2F2023%2F09%2FVaranasi_ghats1.webp&tbnid=iaPhz7fIacq3bM&imgrefurl=https%3A%2F%2Fwww.savaari.com%2Fblog%2Fghats-of-varanasi%2F&docid=Hp0WBB0_RERQ4M&w=2048&h=1366&ved=0ahUKEwib_pXSyouLAxUsFFkFHc4PAJEQvFcIBygF', 'position': 6}, {'title': 'ASSI GHAT (2025) All You Need to Know BEFORE You Go (with Photos ...', 'imageUrl': 'https://dynamic-media-cdn.tripadvisor.com/media/photo-o/0f/ae/ed/5d/a-view-of-the-ghats-taken.jpg?w=1200&h=1200&s=1', 'imageWidth': 1200, 'imageHeight': 1125, 'thumbnailUrl': 'https://encrypted-tbn0.gstatic.com/images?q=tbn:ANd9GcTOGEv8OzFezO-4AsRFX74HkuiQ7wVPkVVOTE-8xcOcsCnvIzjK&s', 'thumbnailWidth': 232, 'thumbnailHeight': 217, 'source': 'Tripadvisor', 'domain': 'www.tripadvisor.in', 'link': 'https://www.tripadvisor.in/Attraction_Review-g297685-d321162-Reviews-Assi_Ghat-Varanasi_Varanasi_District_Uttar_Pradesh.html', 'googleUrl': 'https://www.google.com/imgres?imgurl=https%3A%2F%2Fdynamic-media-cdn.tripadvisor.com%2Fmedia%2Fphoto-o%2F0f%2Fae%2Fed%2F5d%2Fa-view-of-the-ghats-taken.jpg%3Fw%3D1200%26h%3D1200%26s%3D1&tbnid=61PViQoBuvGPKM&imgrefurl=https%3A%2F%2Fwww.tripadvisor.in%2FAttraction_Review-g297685-d321162-Reviews-Assi_Ghat-Varanasi_Varanasi_District_Uttar_Pradesh.html&docid=Jianh1OcDfrexM&w=1200&h=1125&ved=0ahUKEwib_pXSyouLAxUsFFkFHc4PAJEQvFcICCgG', 'position': 7}, {'title': \"Varanasi: Top 12 Ghats to Visit in India's Spiritual Capital - The ...\", 'imageUrl': 'https://thefloatingpebbles.com/wp-content/uploads/2023/03/VARANASI22_417-1024x576.jpg', 'imageWidth': 1024, 'imageHeight': 576, 'thumbnailUrl': 'https://encrypted-tbn0.gstatic.com/images?q=tbn:ANd9GcTrMV-8B-wk9ThkXt9-DowT2ocPA1DaaLRCyv6lcpHGScLtfxx-&s', 'thumbnailWidth': 300, 'thumbnailHeight': 168, 'source': 'The Floating Pebbles', 'domain': 'thefloatingpebbles.com', 'link': 'https://thefloatingpebbles.com/varanasi-top-12-ghats-to-visit-in-indias-spiritual-capital/', 'googleUrl': 'https://www.google.com/imgres?imgurl=https%3A%2F%2Fthefloatingpebbles.com%2Fwp-content%2Fuploads%2F2023%2F03%2FVARANASI22_417-1024x576.jpg&tbnid=dlcuHvs3NCCWXM&imgrefurl=https%3A%2F%2Fthefloatingpebbles.com%2Fvaranasi-top-12-ghats-to-visit-in-indias-spiritual-capital%2F&docid=dTVOYoNmplsfaM&w=1024&h=576&ved=0ahUKEwib_pXSyouLAxUsFFkFHc4PAJEQvFcICSgH', 'copyright': 'SUDIP RAY', 'position': 8}, {'title': 'Explore The Famous Ghats in Varanasi - SOTC', 'imageUrl': 'https://www.sotc.in/blog/wp-content/uploads/2024/04/Varanasi-Ghat-2.jpg', 'imageWidth': 768, 'imageHeight': 512, 'thumbnailUrl': 'https://encrypted-tbn0.gstatic.com/images?q=tbn:ANd9GcTdUQBjDOG3LbdiWFAIaMwVlTFV9EcuJ9A4ZoUWdavVF8J83u8&s', 'thumbnailWidth': 275, 'thumbnailHeight': 183, 'source': 'SOTC', 'domain': 'www.sotc.in', 'link': 'https://www.sotc.in/blog/indian-holidays/famous-ghats-of-varanasi', 'googleUrl': 'https://www.google.com/imgres?imgurl=https%3A%2F%2Fwww.sotc.in%2Fblog%2Fwp-content%2Fuploads%2F2024%2F04%2FVaranasi-Ghat-2.jpg&tbnid=g7lunN9K2wroZM&imgrefurl=https%3A%2F%2Fwww.sotc.in%2Fblog%2Findian-holidays%2Ffamous-ghats-of-varanasi&docid=BeHJBjZ0xIM_EM&w=768&h=512&ved=0ahUKEwib_pXSyouLAxUsFFkFHc4PAJEQvFcICigI', 'position': 9}, {'title': 'Best Varanasi Ghats (Banaras Ghats) Tours & Tickets - Book Now', 'imageUrl': 'https://media.tacdn.com/media/attractions-splice-spp-674x446/0b/39/9e/06.jpg', 'imageWidth': 674, 'imageHeight': 429, 'thumbnailUrl': 'https://encrypted-tbn0.gstatic.com/images?q=tbn:ANd9GcQ37Jkuu1Z5SpDGuMoEs0C37lRh4JXNJrdnDX2lGvcCKgHvGc4&s', 'thumbnailWidth': 282, 'thumbnailHeight': 179, 'source': 'Viator', 'domain': 'www.viator.com', 'link': 'https://www.viator.com/en-IN/Varanasi-attractions/Varanasi-Ghats/d22015-a21522', 'googleUrl': 'https://www.google.com/imgres?imgurl=https%3A%2F%2Fmedia.tacdn.com%2Fmedia%2Fattractions-splice-spp-674x446%2F0b%2F39%2F9e%2F06.jpg&tbnid=sXF2luDIThdoOM&imgrefurl=https%3A%2F%2Fwww.viator.com%2Fen-IN%2FVaranasi-attractions%2FVaranasi-Ghats%2Fd22015-a21522&docid=fUCM9TODgjZBAM&w=674&h=429&ved=0ahUKEwib_pXSyouLAxUsFFkFHc4PAJEQvFcICygJ', 'position': 10}], 'credits': 1}}]}\n"
     ]
    }
   ],
   "source": [
    "with open('keywords_result_dict.json', 'r') as f:\n",
    "    data = json.load(f)\n",
    "    results = parse_api_results(data)\n",
    "    print(data)"
   ]
  },
  {
   "cell_type": "code",
   "execution_count": 18,
   "metadata": {},
   "outputs": [
    {
     "name": "stdout",
     "output_type": "stream",
     "text": [
      "{'text_api': [], 'image_api': [{'results': [{'title': '9 Important Ghats in Varanasi that You Must See', 'link': 'https://www.tripsavvy.com/must-see-ghats-in-varanasi-1539761', 'snippet': ''}, {'title': 'Ghats in Varanasi - Wikipedia', 'link': 'https://en.wikipedia.org/wiki/Ghats_in_Varanasi', 'snippet': ''}, {'title': 'The 85 Ghats of Banaras – Kevin Standage', 'link': 'https://kevinstandagephotography.wordpress.com/2020/05/22/the-ghats-of-banaras-varanasi-kashi/', 'snippet': ''}, {'title': 'Exploring the beautiful ghats of Varanasi | TimesTravel', 'link': 'https://timesofindia.indiatimes.com/travel/destinations/exploring-the-beautiful-ghats-of-varanasi/articleshow/107570888.cms', 'snippet': ''}, {'title': 'Top 5 Must-Visit Ghats in Varanasi | India.com', 'link': 'https://www.india.com/travel/articles/top-5-must-visit-ghats-in-varanasi-3608454/', 'snippet': ''}, {'title': \"Between Heaven and Earth - Exploring Varanasi's Iconic Ghats\", 'link': 'https://www.savaari.com/blog/ghats-of-varanasi/', 'snippet': ''}, {'title': 'ASSI GHAT (2025) All You Need to Know BEFORE You Go (with Photos ...', 'link': 'https://www.tripadvisor.in/Attraction_Review-g297685-d321162-Reviews-Assi_Ghat-Varanasi_Varanasi_District_Uttar_Pradesh.html', 'snippet': ''}, {'title': \"Varanasi: Top 12 Ghats to Visit in India's Spiritual Capital - The ...\", 'link': 'https://thefloatingpebbles.com/varanasi-top-12-ghats-to-visit-in-indias-spiritual-capital/', 'snippet': ''}, {'title': 'Explore The Famous Ghats in Varanasi - SOTC', 'link': 'https://www.sotc.in/blog/indian-holidays/famous-ghats-of-varanasi', 'snippet': ''}, {'title': 'Best Varanasi Ghats (Banaras Ghats) Tours & Tickets - Book Now', 'link': 'https://www.viator.com/en-IN/Varanasi-attractions/Varanasi-Ghats/d22015-a21522', 'snippet': ''}]}]}\n"
     ]
    }
   ],
   "source": [
    "print(results)"
   ]
  },
  {
   "cell_type": "code",
   "execution_count": 178,
   "metadata": {},
   "outputs": [
    {
     "name": "stdout",
     "output_type": "stream",
     "text": [
      "Arre baba!  Aap Varanasi ke ghat dekhna chahte hain?  Wah!  Bahut badiya!  Aapke liye toh main pura Varanasi ghuma dunga!  Dekhiye na, yeh sab websites pe ghaton ki itni saari jankari hai...  (shows a few links from the provided data, perhaps even displaying images if possible through a suitable interface):\n",
      "\n",
      "*  \"9 Important Ghats in Varanasi that You Must See\" -  yeh dekhiye, tripsavvy pe!  Sabse important ghat, saare bataye hain.\n",
      "*  \"Ghats in Varanasi - Wikipedia\" -  Wikipedia pe bhi hai,  pura itihaas mil jaayega aapko!\n",
      "*  \"Between Heaven and Earth - Exploring Varanasi's Iconic Ghats\" - Savaari ke blog pe bhi hai,  bahut achcha likha hai.\n",
      "*  Aur dekhiye, SOTC, Times of India, The Floating Pebbles, India.com... sabne Varanasi ke ghaton pe likha hai!  Har ek website pe kuch na kuch nayi baat milegi aapko.  \n",
      "\n",
      "(Shivendra pauses, smiles warmly, and leans in conspiratorially)\n",
      "\n",
      "Sunaiye, main aapko ek baat bataun?  Yeh ghat sirf pathar ke tukde nahin hain, sahib!  Yeh toh Varanasi ki jaan hain!  Har ghat ki apni ek kahani hai, apna ek raaz hai!  Jaise Manikarnika Ghat...  (Shivendra's voice drops to a hushed tone)  woh toh moksha ka dwar hai!  Log yahan aate hain, antam sanskar karte hain...  bahut hi pavitra jagah hai.  Aur Dasashwamedh Ghat...  woh toh shaam ke aarti ka dekhna hi chahiye!  Aisa lagta hai jaise swarg se jyoti baras rahi ho!\n",
      "\n",
      "(Shivendra gestures broadly, his eyes twinkling)\n",
      "\n",
      "Aapko main sab ghat dikhaunga,  aur har ek ki kahani sunaunga!  Kashi ki galiyon mein ghoomenge,  lassi piyenge,  kachori khaayenge...  aur phir Ganga maata ka darshan karenge!  Kya baat hai?  Chaliye na, shuru karte hain!  Aapko sabse pehle kaunsa ghat dekhna hai?  Bol dijiye!\n",
      "\n"
     ]
    }
   ],
   "source": [
    "final_prompt_template = Path(r\"D:\\projects\\Serious_Banarasia\\prompts\\final_prompt.txt\")\n",
    "if not final_prompt_template.is_file():\n",
    "    raise FileNotFoundError(f\"Prompt file not found at {final_prompt_template}\")\n",
    "\n",
    "with open(final_prompt_template, \"r\", encoding=\"utf-8\") as f:\n",
    "    final_prompt_template = f.read()\n",
    "    final_prompt_template = final_prompt_template.format(\n",
    "        results = results,\n",
    "        query = 'Show me pictures of some famous ghats in varanasi'\n",
    "        \n",
    "    )\n",
    "keywords_result = GM.generate_content(final_prompt_template)\n",
    "print(keywords_result)"
   ]
  },
  {
   "cell_type": "code",
   "execution_count": 19,
   "metadata": {},
   "outputs": [],
   "source": [
    "from openai import OpenAI\n",
    "from dotenv import load_dotenv\n",
    "load_dotenv()\n",
    "import os\n",
    "\n",
    "client = OpenAI(api_key=os.getenv(\"OPENAI_API_KEY\"))\n",
    "\n",
    "completion = client.chat.completions.create(\n",
    "            model = \"chatgpt-4o-latest\",\n",
    "            messages=[\n",
    "                {\"role\": \"developer\", \"content\": \"You are a helpful assistant.\"},\n",
    "                {\n",
    "                    \"role\": \"user\",\n",
    "                    \"content\": \"hi\"\n",
    "                }\n",
    "            ]\n",
    "        )"
   ]
  },
  {
   "cell_type": "code",
   "execution_count": 20,
   "metadata": {},
   "outputs": [
    {
     "data": {
      "text/plain": [
       "'Hello! How can I assist you today? 😊'"
      ]
     },
     "execution_count": 20,
     "metadata": {},
     "output_type": "execute_result"
    }
   ],
   "source": [
    "completion.choices[0].message.content"
   ]
  },
  {
   "cell_type": "code",
   "execution_count": 21,
   "metadata": {},
   "outputs": [],
   "source": [
    "from translator.translator import Translator\n",
    "from pathlib import Path\n",
    "import os"
   ]
  },
  {
   "cell_type": "code",
   "execution_count": 22,
   "metadata": {},
   "outputs": [],
   "source": [
    "\n",
    "path = Path(\"prompts/translator/translator_prompt.txt\")\n",
    "\n",
    "# tr = Translator(api_key=os.getenv(\"GEMINI_API_KEY\"),model_type=\"gemini\", model_name=\"gemini-1.5-flash\", prompt_template_path=path)\n",
    "tr = Translator(api_key=os.getenv(\"OPENAI_API_KEY\"),model_type=\"openai\", model_name=\"gpt-3.5-turbo-1106\", prompt_template_path=path)"
   ]
  },
  {
   "cell_type": "code",
   "execution_count": 23,
   "metadata": {},
   "outputs": [
    {
     "name": "stdout",
     "output_type": "stream",
     "text": [
      "Sure, here is the translated query:\n",
      "\n",
      "Query: Hi, I want to know about Varanasi\n",
      "\n",
      "Translation: Hi, I want to know about Varanasi\n"
     ]
    }
   ],
   "source": [
    "print(tr.restructure_query(\"Hi, I want to know about Varanasi\"))"
   ]
  },
  {
   "cell_type": "code",
   "execution_count": 24,
   "metadata": {},
   "outputs": [],
   "source": [
    "path_sgr = Path(\"prompts/query_router/query_keywords_seggregator.txt\")"
   ]
  },
  {
   "cell_type": "code",
   "execution_count": 25,
   "metadata": {},
   "outputs": [],
   "source": [
    "from keywords_Segregator.segregator import Segregator\n",
    "\n",
    "SGR = Segregator(api_key=os.getenv(\"OPENAI_API_KEY\"),model_type=\"openai\", model_name=\"gpt-3.5-turbo-1106\", prompt_template_path=path_sgr)"
   ]
  },
  {
   "cell_type": "code",
   "execution_count": 26,
   "metadata": {},
   "outputs": [
    {
     "data": {
      "text/plain": [
       "'You are given a query: {re_structured_query} and are tasked to classify the query into a maximum of 2 classes: \"text_api, image_api\" if the query demands or requires classification into these API classes.\\n\\nWhen converting the query to keywords, ensure that:\\n\\nKeywords preserve the complete semantic meaning of the original query.\\nNo keyword segmentation should lead to a loss of context or produce irrelevant results when performing a search.\\nGroup words that form meaningful phrases together, avoiding unnecessary splitting.\\nReturn the output in the following structure:\\n\\njson\\n{{\\n    \"api_needed\": 0,\\n    \"api_name\": [\"keyword_1\", \"keyword_2\", ... \"keyword_n\"],\\n    \"api_name\": [\"keyword_1\", \"keyword_2\", ... \"keyword_n\"]\\n}}\\n\\nExample:\\n\\nQuery: images of famous Varanasi ghats\\n\\nCorrect Response:\\njson\\n{{\\n    \"api_needed\": 1,\\n    \"image_api\": [\"famous Varanasi ghats\"]\\n}}\\n\\n\\nIncorrect Response:\\njson\\n{{\\n    \"api_needed\": 1,\\n    \"image_api\": [\"images\", \"Varanasi ghats\", \"famous Varanasi ghats\"]\\n}}\\n\\n\\nQuery: Tell me about history of Varanasi.\\n\\n\\nCorrect Response:\\njson\\n{{\\n    \"api_needed\": 1,\\n    \"text_api\": [\"history of Varanasi\"]\\n}}\\n\\nIncorrect Response:\\njson\\n{{\\n    \"api_needed\": 1,\\n    \"search_api\": [\"Varanasi\", \"history\"]\\n}}\\n\\n\\nQuery: Hii How are you ? \\n\\njson\\n{{\\n    \"api_needed\" : 0,\\n    \"message\" :[\"your answere here\"]\\n}}\\n\\n'"
      ]
     },
     "execution_count": 26,
     "metadata": {},
     "output_type": "execute_result"
    }
   ],
   "source": [
    "SGR.load_prompt_template()"
   ]
  },
  {
   "cell_type": "code",
   "execution_count": 27,
   "metadata": {},
   "outputs": [],
   "source": [
    "keywords =  SGR.keywords_seggregator(\"I want to know about Varanasi\")"
   ]
  },
  {
   "cell_type": "code",
   "execution_count": 46,
   "metadata": {},
   "outputs": [
    {
     "name": "stdout",
     "output_type": "stream",
     "text": [
      "{'api_needed': 1, 'text_api': ['history of Varanasi']}\n"
     ]
    }
   ],
   "source": [
    "print(keywords)"
   ]
  },
  {
   "cell_type": "code",
   "execution_count": 47,
   "metadata": {},
   "outputs": [],
   "source": [
    "from query_router.router import QueryRouter\n",
    "from dotenv import load_dotenv\n",
    "load_dotenv()\n",
    "QR = QueryRouter(keywords=keywords, serper_api_key=os.getenv(\"SERPER_API_KEY\"))"
   ]
  },
  {
   "cell_type": "code",
   "execution_count": 48,
   "metadata": {},
   "outputs": [],
   "source": [
    "categories = {k: v for k, v in keywords.items() if k != 'api_needed'}"
   ]
  },
  {
   "cell_type": "code",
   "execution_count": 55,
   "metadata": {},
   "outputs": [
    {
     "name": "stdout",
     "output_type": "stream",
     "text": [
      "{'api_needed': 1, 'text_api': ['history of Varanasi']}\n"
     ]
    }
   ],
   "source": [
    "print(keywords)"
   ]
  },
  {
   "cell_type": "code",
   "execution_count": 63,
   "metadata": {},
   "outputs": [
    {
     "name": "stdout",
     "output_type": "stream",
     "text": [
      "this is i: text_api\n",
      "this is j: ['history of Varanasi']\n"
     ]
    }
   ],
   "source": [
    "categories.items()\n",
    "for i, j in categories.items():\n",
    "    print(\"this is i:\", i)\n",
    "    print(\"this is j:\", j)"
   ]
  },
  {
   "cell_type": "code",
   "execution_count": 53,
   "metadata": {},
   "outputs": [
    {
     "name": "stdout",
     "output_type": "stream",
     "text": [
      "Error processing history of Varanasi: expected string or bytes-like object, got 'NoneType'\n"
     ]
    }
   ],
   "source": [
    "new_result = QR.route_keywords()"
   ]
  },
  {
   "cell_type": "markdown",
   "metadata": {},
   "source": []
  },
  {
   "cell_type": "code",
   "execution_count": null,
   "metadata": {},
   "outputs": [],
   "source": [
    "def route_keywords(Keywords):\n",
    "        # Filter out control parameters\n",
    "    results = {'text_api': []}\n",
    "    categories = {k: v for k, v in keywords.items() if k != 'api_needed'}\n",
    "\n",
    "    for category, keyword_list in categories.items():\n",
    "        if category not in results:\n",
    "            print(f\"Unknown category: {category}\")\n",
    "            continue\n",
    "\n",
    "        for keyword in keyword_list:\n",
    "            try:\n",
    "                    \n",
    "                result = None\n",
    "                    # Route to appropriate API\n",
    "                if category in ['text_api', 'search_api']: \n",
    "                    result = .serper_client.search_query(keyword)\n",
    "                    print(result)"
   ]
  },
  {
   "cell_type": "code",
   "execution_count": 54,
   "metadata": {},
   "outputs": [
    {
     "name": "stdout",
     "output_type": "stream",
     "text": [
      "{'text_api': [], 'image_api': [], 'search_api': []}\n"
     ]
    }
   ],
   "source": [
    "print(new_result)"
   ]
  },
  {
   "cell_type": "code",
   "execution_count": null,
   "metadata": {},
   "outputs": [],
   "source": []
  }
 ],
 "metadata": {
  "kernelspec": {
   "display_name": "base",
   "language": "python",
   "name": "python3"
  },
  "language_info": {
   "codemirror_mode": {
    "name": "ipython",
    "version": 3
   },
   "file_extension": ".py",
   "mimetype": "text/x-python",
   "name": "python",
   "nbconvert_exporter": "python",
   "pygments_lexer": "ipython3",
   "version": "3.11.4"
  }
 },
 "nbformat": 4,
 "nbformat_minor": 2
}
